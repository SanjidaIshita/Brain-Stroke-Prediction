{
  "nbformat": 4,
  "nbformat_minor": 0,
  "metadata": {
    "colab": {
      "name": "BrainStrokePrediction.ipynb",
      "provenance": [],
      "collapsed_sections": [],
      "toc_visible": true
    },
    "kernelspec": {
      "name": "python3",
      "display_name": "Python 3"
    },
    "language_info": {
      "name": "python"
    }
  },
  "cells": [
    {
      "cell_type": "code",
      "metadata": {
        "id": "2khQzvQKIppE"
      },
      "source": [
        "import pandas as pd\n",
        "import numpy as np\n",
        "import matplotlib.pyplot as plt\n",
        "from sklearn.preprocessing import LabelEncoder, StandardScaler\n",
        "from imblearn.over_sampling import SMOTE\n",
        "from sklearn.model_selection import train_test_split\n",
        "from sklearn.svm import SVC\n",
        "from sklearn.tree import DecisionTreeClassifier\n",
        "from sklearn.metrics import classification_report,accuracy_score,confusion_matrix\n",
        "from sklearn.metrics import auc,roc_auc_score,roc_curve,precision_score,recall_score,f1_score\n"
      ],
      "execution_count": 27,
      "outputs": []
    },
    {
      "cell_type": "markdown",
      "metadata": {
        "id": "nZYmSOs5Kss3"
      },
      "source": [
        "## The Dataset"
      ]
    },
    {
      "cell_type": "code",
      "metadata": {
        "id": "7QdvWHtFKoDU"
      },
      "source": [
        "from google.colab import drive"
      ],
      "execution_count": 28,
      "outputs": []
    },
    {
      "cell_type": "code",
      "metadata": {
        "colab": {
          "base_uri": "https://localhost:8080/"
        },
        "id": "fqazVgMSK4df",
        "outputId": "dfec2acc-ae3c-44eb-ae80-ab9f631f390f"
      },
      "source": [
        "drive.mount('/content/drive')"
      ],
      "execution_count": 29,
      "outputs": [
        {
          "output_type": "stream",
          "name": "stdout",
          "text": [
            "Drive already mounted at /content/drive; to attempt to forcibly remount, call drive.mount(\"/content/drive\", force_remount=True).\n"
          ]
        }
      ]
    },
    {
      "cell_type": "code",
      "metadata": {
        "id": "9u6wRRsvLJJA"
      },
      "source": [
        "data=pd.read_csv('/content/drive/MyDrive/Dataset/Brain Stroke Prediction Dataset.csv')"
      ],
      "execution_count": 30,
      "outputs": []
    },
    {
      "cell_type": "code",
      "metadata": {
        "colab": {
          "base_uri": "https://localhost:8080/",
          "height": 417
        },
        "id": "ZMJBKLh8LeNM",
        "outputId": "3aaaf5d6-03bf-4044-d35f-2fa5aef2f267"
      },
      "source": [
        "data"
      ],
      "execution_count": 31,
      "outputs": [
        {
          "output_type": "execute_result",
          "data": {
            "text/html": [
              "<div>\n",
              "<style scoped>\n",
              "    .dataframe tbody tr th:only-of-type {\n",
              "        vertical-align: middle;\n",
              "    }\n",
              "\n",
              "    .dataframe tbody tr th {\n",
              "        vertical-align: top;\n",
              "    }\n",
              "\n",
              "    .dataframe thead th {\n",
              "        text-align: right;\n",
              "    }\n",
              "</style>\n",
              "<table border=\"1\" class=\"dataframe\">\n",
              "  <thead>\n",
              "    <tr style=\"text-align: right;\">\n",
              "      <th></th>\n",
              "      <th>Gender</th>\n",
              "      <th>Age</th>\n",
              "      <th>Hypertension</th>\n",
              "      <th>Heart Disease</th>\n",
              "      <th>Marital Status</th>\n",
              "      <th>Work Type</th>\n",
              "      <th>Residence Type</th>\n",
              "      <th>Average Glucose level</th>\n",
              "      <th>BMI</th>\n",
              "      <th>Smoking Status</th>\n",
              "      <th>Stroke</th>\n",
              "    </tr>\n",
              "  </thead>\n",
              "  <tbody>\n",
              "    <tr>\n",
              "      <th>0</th>\n",
              "      <td>Male</td>\n",
              "      <td>80.0</td>\n",
              "      <td>0</td>\n",
              "      <td>1</td>\n",
              "      <td>Yes</td>\n",
              "      <td>Private</td>\n",
              "      <td>Rural</td>\n",
              "      <td>105.92</td>\n",
              "      <td>32.5</td>\n",
              "      <td>never smoked</td>\n",
              "      <td>1</td>\n",
              "    </tr>\n",
              "    <tr>\n",
              "      <th>1</th>\n",
              "      <td>Female</td>\n",
              "      <td>79.0</td>\n",
              "      <td>1</td>\n",
              "      <td>0</td>\n",
              "      <td>Yes</td>\n",
              "      <td>Self-employed</td>\n",
              "      <td>Rural</td>\n",
              "      <td>174.12</td>\n",
              "      <td>24.0</td>\n",
              "      <td>never smoked</td>\n",
              "      <td>1</td>\n",
              "    </tr>\n",
              "    <tr>\n",
              "      <th>2</th>\n",
              "      <td>Male</td>\n",
              "      <td>36.0</td>\n",
              "      <td>0</td>\n",
              "      <td>0</td>\n",
              "      <td>Yes</td>\n",
              "      <td>Private</td>\n",
              "      <td>Urban</td>\n",
              "      <td>77.26</td>\n",
              "      <td>30.9</td>\n",
              "      <td>never smoked</td>\n",
              "      <td>0</td>\n",
              "    </tr>\n",
              "    <tr>\n",
              "      <th>3</th>\n",
              "      <td>Male</td>\n",
              "      <td>81.0</td>\n",
              "      <td>0</td>\n",
              "      <td>0</td>\n",
              "      <td>Yes</td>\n",
              "      <td>Private</td>\n",
              "      <td>Urban</td>\n",
              "      <td>186.21</td>\n",
              "      <td>29.0</td>\n",
              "      <td>formerly smoked</td>\n",
              "      <td>1</td>\n",
              "    </tr>\n",
              "    <tr>\n",
              "      <th>4</th>\n",
              "      <td>Female</td>\n",
              "      <td>31.0</td>\n",
              "      <td>0</td>\n",
              "      <td>0</td>\n",
              "      <td>Yes</td>\n",
              "      <td>Private</td>\n",
              "      <td>Rural</td>\n",
              "      <td>77.01</td>\n",
              "      <td>31.3</td>\n",
              "      <td>formerly smoked</td>\n",
              "      <td>0</td>\n",
              "    </tr>\n",
              "    <tr>\n",
              "      <th>...</th>\n",
              "      <td>...</td>\n",
              "      <td>...</td>\n",
              "      <td>...</td>\n",
              "      <td>...</td>\n",
              "      <td>...</td>\n",
              "      <td>...</td>\n",
              "      <td>...</td>\n",
              "      <td>...</td>\n",
              "      <td>...</td>\n",
              "      <td>...</td>\n",
              "      <td>...</td>\n",
              "    </tr>\n",
              "    <tr>\n",
              "      <th>245</th>\n",
              "      <td>Male</td>\n",
              "      <td>62.0</td>\n",
              "      <td>0</td>\n",
              "      <td>0</td>\n",
              "      <td>Yes</td>\n",
              "      <td>Private</td>\n",
              "      <td>Urban</td>\n",
              "      <td>81.64</td>\n",
              "      <td>38.2</td>\n",
              "      <td>never smoked</td>\n",
              "      <td>0</td>\n",
              "    </tr>\n",
              "    <tr>\n",
              "      <th>246</th>\n",
              "      <td>Male</td>\n",
              "      <td>5.0</td>\n",
              "      <td>0</td>\n",
              "      <td>0</td>\n",
              "      <td>No</td>\n",
              "      <td>children</td>\n",
              "      <td>Rural</td>\n",
              "      <td>97.64</td>\n",
              "      <td>17.0</td>\n",
              "      <td>Unknown</td>\n",
              "      <td>0</td>\n",
              "    </tr>\n",
              "    <tr>\n",
              "      <th>247</th>\n",
              "      <td>Female</td>\n",
              "      <td>43.0</td>\n",
              "      <td>0</td>\n",
              "      <td>0</td>\n",
              "      <td>Yes</td>\n",
              "      <td>Private</td>\n",
              "      <td>Rural</td>\n",
              "      <td>110.32</td>\n",
              "      <td>28.4</td>\n",
              "      <td>never smoked</td>\n",
              "      <td>0</td>\n",
              "    </tr>\n",
              "    <tr>\n",
              "      <th>248</th>\n",
              "      <td>Female</td>\n",
              "      <td>39.0</td>\n",
              "      <td>0</td>\n",
              "      <td>0</td>\n",
              "      <td>No</td>\n",
              "      <td>Private</td>\n",
              "      <td>Rural</td>\n",
              "      <td>79.00</td>\n",
              "      <td>30.0</td>\n",
              "      <td>never smoked</td>\n",
              "      <td>0</td>\n",
              "    </tr>\n",
              "    <tr>\n",
              "      <th>249</th>\n",
              "      <td>Female</td>\n",
              "      <td>61.0</td>\n",
              "      <td>0</td>\n",
              "      <td>0</td>\n",
              "      <td>Yes</td>\n",
              "      <td>Self-employed</td>\n",
              "      <td>Rural</td>\n",
              "      <td>202.21</td>\n",
              "      <td>NaN</td>\n",
              "      <td>never smoked</td>\n",
              "      <td>1</td>\n",
              "    </tr>\n",
              "  </tbody>\n",
              "</table>\n",
              "<p>250 rows × 11 columns</p>\n",
              "</div>"
            ],
            "text/plain": [
              "     Gender   Age  Hypertension  ...   BMI   Smoking Status Stroke\n",
              "0      Male  80.0             0  ...  32.5     never smoked      1\n",
              "1    Female  79.0             1  ...  24.0     never smoked      1\n",
              "2      Male  36.0             0  ...  30.9     never smoked      0\n",
              "3      Male  81.0             0  ...  29.0  formerly smoked      1\n",
              "4    Female  31.0             0  ...  31.3  formerly smoked      0\n",
              "..      ...   ...           ...  ...   ...              ...    ...\n",
              "245    Male  62.0             0  ...  38.2     never smoked      0\n",
              "246    Male   5.0             0  ...  17.0          Unknown      0\n",
              "247  Female  43.0             0  ...  28.4     never smoked      0\n",
              "248  Female  39.0             0  ...  30.0     never smoked      0\n",
              "249  Female  61.0             0  ...   NaN     never smoked      1\n",
              "\n",
              "[250 rows x 11 columns]"
            ]
          },
          "metadata": {},
          "execution_count": 31
        }
      ]
    },
    {
      "cell_type": "code",
      "metadata": {
        "colab": {
          "base_uri": "https://localhost:8080/",
          "height": 295
        },
        "id": "eBvQTQZILy3n",
        "outputId": "c44880a2-949d-4839-9ec2-bb3532d62763"
      },
      "source": [
        "data.describe()"
      ],
      "execution_count": 32,
      "outputs": [
        {
          "output_type": "execute_result",
          "data": {
            "text/html": [
              "<div>\n",
              "<style scoped>\n",
              "    .dataframe tbody tr th:only-of-type {\n",
              "        vertical-align: middle;\n",
              "    }\n",
              "\n",
              "    .dataframe tbody tr th {\n",
              "        vertical-align: top;\n",
              "    }\n",
              "\n",
              "    .dataframe thead th {\n",
              "        text-align: right;\n",
              "    }\n",
              "</style>\n",
              "<table border=\"1\" class=\"dataframe\">\n",
              "  <thead>\n",
              "    <tr style=\"text-align: right;\">\n",
              "      <th></th>\n",
              "      <th>Age</th>\n",
              "      <th>Hypertension</th>\n",
              "      <th>Heart Disease</th>\n",
              "      <th>Average Glucose level</th>\n",
              "      <th>BMI</th>\n",
              "      <th>Stroke</th>\n",
              "    </tr>\n",
              "  </thead>\n",
              "  <tbody>\n",
              "    <tr>\n",
              "      <th>count</th>\n",
              "      <td>250.000000</td>\n",
              "      <td>250.000000</td>\n",
              "      <td>250.000000</td>\n",
              "      <td>250.000000</td>\n",
              "      <td>225.000000</td>\n",
              "      <td>250.000000</td>\n",
              "    </tr>\n",
              "    <tr>\n",
              "      <th>mean</th>\n",
              "      <td>51.555520</td>\n",
              "      <td>0.180000</td>\n",
              "      <td>0.084000</td>\n",
              "      <td>115.636320</td>\n",
              "      <td>28.978667</td>\n",
              "      <td>0.424000</td>\n",
              "    </tr>\n",
              "    <tr>\n",
              "      <th>std</th>\n",
              "      <td>23.672686</td>\n",
              "      <td>0.384958</td>\n",
              "      <td>0.277944</td>\n",
              "      <td>51.863597</td>\n",
              "      <td>7.636630</td>\n",
              "      <td>0.495182</td>\n",
              "    </tr>\n",
              "    <tr>\n",
              "      <th>min</th>\n",
              "      <td>0.160000</td>\n",
              "      <td>0.000000</td>\n",
              "      <td>0.000000</td>\n",
              "      <td>56.110000</td>\n",
              "      <td>13.000000</td>\n",
              "      <td>0.000000</td>\n",
              "    </tr>\n",
              "    <tr>\n",
              "      <th>25%</th>\n",
              "      <td>35.250000</td>\n",
              "      <td>0.000000</td>\n",
              "      <td>0.000000</td>\n",
              "      <td>77.072500</td>\n",
              "      <td>24.000000</td>\n",
              "      <td>0.000000</td>\n",
              "    </tr>\n",
              "    <tr>\n",
              "      <th>50%</th>\n",
              "      <td>57.500000</td>\n",
              "      <td>0.000000</td>\n",
              "      <td>0.000000</td>\n",
              "      <td>97.280000</td>\n",
              "      <td>28.400000</td>\n",
              "      <td>0.000000</td>\n",
              "    </tr>\n",
              "    <tr>\n",
              "      <th>75%</th>\n",
              "      <td>72.000000</td>\n",
              "      <td>0.000000</td>\n",
              "      <td>0.000000</td>\n",
              "      <td>136.095000</td>\n",
              "      <td>32.900000</td>\n",
              "      <td>1.000000</td>\n",
              "    </tr>\n",
              "    <tr>\n",
              "      <th>max</th>\n",
              "      <td>82.000000</td>\n",
              "      <td>1.000000</td>\n",
              "      <td>1.000000</td>\n",
              "      <td>271.740000</td>\n",
              "      <td>55.000000</td>\n",
              "      <td>1.000000</td>\n",
              "    </tr>\n",
              "  </tbody>\n",
              "</table>\n",
              "</div>"
            ],
            "text/plain": [
              "              Age  Hypertension  ...         BMI      Stroke\n",
              "count  250.000000    250.000000  ...  225.000000  250.000000\n",
              "mean    51.555520      0.180000  ...   28.978667    0.424000\n",
              "std     23.672686      0.384958  ...    7.636630    0.495182\n",
              "min      0.160000      0.000000  ...   13.000000    0.000000\n",
              "25%     35.250000      0.000000  ...   24.000000    0.000000\n",
              "50%     57.500000      0.000000  ...   28.400000    0.000000\n",
              "75%     72.000000      0.000000  ...   32.900000    1.000000\n",
              "max     82.000000      1.000000  ...   55.000000    1.000000\n",
              "\n",
              "[8 rows x 6 columns]"
            ]
          },
          "metadata": {},
          "execution_count": 32
        }
      ]
    },
    {
      "cell_type": "code",
      "metadata": {
        "id": "NEpbsAqNtSHB"
      },
      "source": [
        ""
      ],
      "execution_count": 32,
      "outputs": []
    },
    {
      "cell_type": "markdown",
      "metadata": {
        "id": "3fwuCFDbMgZg"
      },
      "source": [
        "## Handling Missing Value"
      ]
    },
    {
      "cell_type": "code",
      "metadata": {
        "colab": {
          "base_uri": "https://localhost:8080/"
        },
        "id": "9FtcJ112MrY4",
        "outputId": "2deb4e0e-f273-4f1b-c9a8-6458104a5b77"
      },
      "source": [
        "# Safely disable new warning with the chained assignment.\n",
        "pd.options.mode.chained_assignment = None  # default='warn'\n",
        "# replace missing values in variable 'bmi' with its mean\n",
        "data['BMI']=data['BMI'].fillna(data['BMI'].mean())\n",
        "# remove (drop) data associated with missing values in variable 'smoking_status'\n",
        "clean_data = data[data['Smoking Status'].notnull()]\n",
        "# validate there's no more missing values\n",
        "miss_val = clean_data.isnull().sum()/len(clean_data)*100\n",
        "print(miss_val)\n",
        "print(\"# Missing values in variable 'BMI'\\t\\t: {}\".format(miss_val['BMI']))\n",
        "print(\"# Missing values in variable 'Smoking Status'\\t: {}\".format(miss_val['Smoking Status']))\n",
        "print(\"Shape of data without missing values: {}\".format(clean_data.shape))"
      ],
      "execution_count": 33,
      "outputs": [
        {
          "output_type": "stream",
          "name": "stdout",
          "text": [
            "Gender                    0.0\n",
            "Age                       0.0\n",
            "Hypertension              0.0\n",
            "Heart Disease             0.0\n",
            "Marital Status            0.0\n",
            "Work Type                 0.0\n",
            "Residence Type            0.0\n",
            "Average Glucose level     0.0\n",
            "BMI                       0.0\n",
            "Smoking Status            0.0\n",
            "Stroke                    0.0\n",
            "dtype: float64\n",
            "# Missing values in variable 'BMI'\t\t: 0.0\n",
            "# Missing values in variable 'Smoking Status'\t: 0.0\n",
            "Shape of data without missing values: (250, 11)\n"
          ]
        }
      ]
    },
    {
      "cell_type": "markdown",
      "metadata": {
        "id": "bhm1lTa-UCke"
      },
      "source": [
        "## Exchanging Category to Numerical Values"
      ]
    },
    {
      "cell_type": "code",
      "metadata": {
        "colab": {
          "base_uri": "https://localhost:8080/"
        },
        "id": "d9_abOndNong",
        "outputId": "17a4941c-7d9c-4f81-e8e8-2dd158cfc72f"
      },
      "source": [
        "print(\"Unique 'Gender': {}\".format(clean_data['Gender'].unique()))\n",
        "print(\"Unique 'Marital Status': {}\".format(clean_data['Marital Status'].unique()))\n",
        "print(\"Unique 'Work Type': {}\".format(clean_data['Work Type'].unique()))\n",
        "print(\"Unique 'Residence Type': {}\".format(clean_data['Residence Type'].unique()))\n",
        "print(\"Unique 'Smoking Status': {}\".format(clean_data['Smoking Status'].unique()))"
      ],
      "execution_count": 34,
      "outputs": [
        {
          "output_type": "stream",
          "name": "stdout",
          "text": [
            "Unique 'Gender': ['Male' 'Female']\n",
            "Unique 'Marital Status': ['Yes' 'No']\n",
            "Unique 'Work Type': ['Private' 'Self-employed' 'Govt_job' 'Never_worked' 'children']\n",
            "Unique 'Residence Type': ['Rural' 'Urban']\n",
            "Unique 'Smoking Status': ['never smoked' 'formerly smoked' 'Unknown' 'smokes']\n"
          ]
        }
      ]
    },
    {
      "cell_type": "code",
      "metadata": {
        "id": "3av-2DDwUNQq"
      },
      "source": [
        "label_gender = LabelEncoder()\n",
        "label_married = LabelEncoder()\n",
        "label_work = LabelEncoder()\n",
        "label_residence = LabelEncoder()\n",
        "label_smoking = LabelEncoder()"
      ],
      "execution_count": 35,
      "outputs": []
    },
    {
      "cell_type": "code",
      "metadata": {
        "colab": {
          "base_uri": "https://localhost:8080/"
        },
        "id": "VNpqEj04U52N",
        "outputId": "a20c3ef2-7c0c-4584-e1d3-4eb9ff7e213e"
      },
      "source": [
        "clean_data['Gender'] = label_gender.fit_transform(clean_data['Gender'])\n",
        "clean_data['Marital Status'] = label_married.fit_transform(clean_data['Marital Status'])\n",
        "clean_data['Work Type']= label_work.fit_transform(clean_data['Work Type'])\n",
        "clean_data['Residence Type']= label_residence.fit_transform(clean_data['Residence Type'])\n",
        "clean_data['Smoking Status']= label_smoking.fit_transform(clean_data['Smoking Status'])\n",
        "with pd.option_context('expand_frame_repr', False):\n",
        "    print(clean_data.head())"
      ],
      "execution_count": 36,
      "outputs": [
        {
          "output_type": "stream",
          "name": "stdout",
          "text": [
            "   Gender   Age  Hypertension  Heart Disease  Marital Status  Work Type  Residence Type  Average Glucose level    BMI  Smoking Status  Stroke\n",
            "0       1  80.0             0              1               1          2               0                  105.92  32.5               2       1\n",
            "1       0  79.0             1              0               1          3               0                  174.12  24.0               2       1\n",
            "2       1  36.0             0              0               1          2               1                   77.26  30.9               2       0\n",
            "3       1  81.0             0              0               1          2               1                  186.21  29.0               1       1\n",
            "4       0  31.0             0              0               1          2               0                   77.01  31.3               1       0\n"
          ]
        }
      ]
    },
    {
      "cell_type": "markdown",
      "metadata": {
        "id": "D0otEDIjVc8J"
      },
      "source": [
        "## Histogram Features"
      ]
    },
    {
      "cell_type": "code",
      "metadata": {
        "colab": {
          "base_uri": "https://localhost:8080/",
          "height": 729
        },
        "id": "eRbMIvWUVccp",
        "outputId": "64aa7a40-9db6-416e-e4fd-f03ee98d26f5"
      },
      "source": [
        "fig = clean_data.hist(figsize=(10,10))\n",
        "plt.tight_layout()\n",
        "plt.show()"
      ],
      "execution_count": 37,
      "outputs": [
        {
          "output_type": "display_data",
          "data": {
            "image/png": "[encoded data removed]",
            "text/plain": [
              "<Figure size 720x720 with 12 Axes>"
            ]
          },
          "metadata": {
            "needs_background": "light"
          }
        }
      ]
    },
    {
      "cell_type": "markdown",
      "metadata": {
        "id": "ixHC_eNlV0pI"
      },
      "source": [
        "## Balancing Target(Stroke) Class"
      ]
    },
    {
      "cell_type": "code",
      "metadata": {
        "colab": {
          "base_uri": "https://localhost:8080/",
          "height": 298
        },
        "id": "n2TAbCq3VnHR",
        "outputId": "d4d62665-b21f-4da3-f36b-265c3a62dc13"
      },
      "source": [
        "class_occur = clean_data['Stroke'].value_counts()\n",
        "class_names = ['No Stroke','Stroke']\n",
        "fig, ax = plt.subplots()\n",
        "ax.pie(class_occur, labels=class_names, autopct='%1.2f%%',\n",
        "        shadow=True, startangle=0, counterclock=False)\n",
        "ax.axis('equal')  # Equal aspect ratio ensures that pie is drawn as a circle.\n",
        "ax.set_title('Class distribution')\n",
        "plt.show()\n",
        "print(\"# samples associated with no stroke: {}\".format(class_occur[0]))\n",
        "print(\"# samples associated with stroke: {}\".format(class_occur[1]))"
      ],
      "execution_count": 38,
      "outputs": [
        {
          "output_type": "display_data",
          "data": {
            "image/png": "[encoded data removed]",
            "text/plain": [
              "<Figure size 432x288 with 1 Axes>"
            ]
          },
          "metadata": {}
        },
        {
          "output_type": "stream",
          "name": "stdout",
          "text": [
            "# samples associated with no stroke: 144\n",
            "# samples associated with stroke: 106\n"
          ]
        }
      ]
    },
    {
      "cell_type": "markdown",
      "metadata": {
        "id": "0RPMJqyala-y"
      },
      "source": [
        "## Handling Imbalanced Class"
      ]
    },
    {
      "cell_type": "code",
      "metadata": {
        "colab": {
          "base_uri": "https://localhost:8080/"
        },
        "id": "mBd2ifMnfSP1",
        "outputId": "f035e592-2616-4061-9dbb-e4b888eefc27"
      },
      "source": [
        "# create the  object with the desired sampling strategy.\n",
        "smote = SMOTE(sampling_strategy='minority')\n",
        "\n",
        "# fit the object to our training data\n",
        "X, y = smote.fit_sample(clean_data.loc[:,clean_data.columns!='Stroke'], clean_data['Stroke'])\n",
        "print(\"Shape of X: {}\".format(X.shape))\n",
        "print(\"Shape of y: {}\".format(y.shape))"
      ],
      "execution_count": 39,
      "outputs": [
        {
          "output_type": "stream",
          "name": "stdout",
          "text": [
            "Shape of X: (288, 10)\n",
            "Shape of y: (288,)\n"
          ]
        },
        {
          "output_type": "stream",
          "name": "stderr",
          "text": [
            "/usr/local/lib/python3.7/dist-packages/sklearn/utils/deprecation.py:87: FutureWarning: Function safe_indexing is deprecated; safe_indexing is deprecated in version 0.22 and will be removed in version 0.24.\n",
            "  warnings.warn(msg, category=FutureWarning)\n"
          ]
        }
      ]
    },
    {
      "cell_type": "code",
      "metadata": {
        "colab": {
          "base_uri": "https://localhost:8080/",
          "height": 298
        },
        "id": "GG_GlPRhfWwY",
        "outputId": "01440008-63fe-4526-dd6c-5d011f91ee71"
      },
      "source": [
        "_, class_counts = np.unique(y, return_counts=True)\n",
        "class_names = ['No stroke', 'Stroke']\n",
        "fig, ax = plt.subplots()\n",
        "ax.pie(class_counts, labels=class_names, autopct='%1.2f%%',\n",
        "        shadow=True, startangle=90, counterclock=False)\n",
        "ax.axis('equal')  # Equal aspect ratio ensures that pie is drawn as a circle.\n",
        "ax.set_title('Class distribution')\n",
        "plt.show()\n",
        "print(\"# samples associated with no stroke: {}\".format(class_counts[0]))\n",
        "print(\"# samples associated with stroke: {}\".format(class_counts[1]))"
      ],
      "execution_count": 40,
      "outputs": [
        {
          "output_type": "display_data",
          "data": {
            "image/png": "[encoded data removed]",
            "text/plain": [
              "<Figure size 432x288 with 1 Axes>"
            ]
          },
          "metadata": {}
        },
        {
          "output_type": "stream",
          "name": "stdout",
          "text": [
            "# samples associated with no stroke: 144\n",
            "# samples associated with stroke: 144\n"
          ]
        }
      ]
    },
    {
      "cell_type": "markdown",
      "metadata": {
        "id": "cyDNQ5I7mBAG"
      },
      "source": [
        "## Data Splitting"
      ]
    },
    {
      "cell_type": "code",
      "metadata": {
        "colab": {
          "base_uri": "https://localhost:8080/"
        },
        "id": "lojee8qFfHUK",
        "outputId": "f4bc4e62-d412-4f79-fa77-2a06bf81cf9c"
      },
      "source": [
        "def split_train_valid_test(X,y,test_size=0.1,random_state=None):\n",
        "    X_train, X_test, y_train, y_test = train_test_split(X,y,test_size=test_size, random_state=random_state, stratify=y)\n",
        "    X_train, X_valid, y_train, y_valid = train_test_split(X_train,y_train,test_size=test_size/(1-test_size), random_state=random_state, stratify=y_train)\n",
        "    return X_train, X_valid, X_test, y_train, y_valid, y_test\n",
        "\n",
        "X_train, X_valid, X_test, y_train, y_valid, y_test = split_train_valid_test(X,y,test_size=0.1,random_state=42)\n",
        "_, train_counts = np.unique(y_train, return_counts=True)\n",
        "_, valid_counts = np.unique(y_valid, return_counts=True)\n",
        "_, test_counts = np.unique(y_test, return_counts=True)\n",
        "print(\"[train] # class 0: {} | # class 1: {}\".format(train_counts[0],train_counts[1]))\n",
        "print(\"[valid] # class 0: {} | # class 1: {}\".format(valid_counts[0],valid_counts[1]))\n",
        "print(\"[test]  # class 0: {} | # class 1: {}\".format(test_counts[0],test_counts[1]))"
      ],
      "execution_count": 41,
      "outputs": [
        {
          "output_type": "stream",
          "name": "stdout",
          "text": [
            "[train] # class 0: 115 | # class 1: 115\n",
            "[valid] # class 0: 14 | # class 1: 15\n",
            "[test]  # class 0: 15 | # class 1: 14\n"
          ]
        }
      ]
    },
    {
      "cell_type": "markdown",
      "metadata": {
        "id": "mNX80kwym-1l"
      },
      "source": [
        "## Data Normalize"
      ]
    },
    {
      "cell_type": "code",
      "metadata": {
        "id": "r8a0BpinfFM-"
      },
      "source": [
        "scaler = StandardScaler()\n",
        "scaler = scaler.fit(X_train)\n",
        "\n",
        "X_train_std = scaler.transform(X_train)\n",
        "X_valid_std = scaler.transform(X_valid)\n",
        "X_test_std = scaler.transform(X_test)"
      ],
      "execution_count": 42,
      "outputs": []
    },
    {
      "cell_type": "markdown",
      "metadata": {
        "id": "t2VatUrRnEy-"
      },
      "source": [
        "## Confusion Matrix"
      ]
    },
    {
      "cell_type": "code",
      "metadata": {
        "id": "H7kbSq8ee0K2"
      },
      "source": [
        "def calc_sens_spec(y_true,y_pred):\n",
        "    conf_matrix = confusion_matrix(y_true,y_pred)\n",
        "    TP = conf_matrix[1][1]\n",
        "    TN = conf_matrix[0][0]\n",
        "    FP = conf_matrix[0][1]\n",
        "    FN = conf_matrix[1][0]\n",
        "    "
      ],
      "execution_count": 43,
      "outputs": []
    },
    {
      "cell_type": "markdown",
      "metadata": {
        "id": "X9LoxXV0W0ov"
      },
      "source": [
        "## Decision Tree"
      ]
    },
    {
      "cell_type": "code",
      "metadata": {
        "id": "t8RD-zGTuVmt"
      },
      "source": [
        "dtree_model = DecisionTreeClassifier(random_state=42)\n",
        "dtree_model.fit(X_train_std, y_train)\n",
        "y_dtree = dtree_model.predict(X_test_std)\n",
        "y_dtree_prob = dtree_model.predict_proba(X_test_std)"
      ],
      "execution_count": 44,
      "outputs": []
    },
    {
      "cell_type": "code",
      "metadata": {
        "colab": {
          "base_uri": "https://localhost:8080/",
          "height": 581
        },
        "id": "o4olmKxEefYc",
        "outputId": "3c4ed8eb-423c-4b15-d484-6fbc1c8a96bb"
      },
      "source": [
        "print(\"Classification report for DT: \\n{}\".format(classification_report(y_test,y_dtree)))\n",
        "print(\"Confusion matrix for DT: \\n{}\".format(confusion_matrix(y_test,y_dtree)))\n",
        "print(\"Accuracy score for DT: {:.2f}\".format(accuracy_score(y_test,y_dtree)))\n",
        "# calculate precision, recall, and f1 scores\n",
        "prec_dtree = precision_score(y_test,y_dtree)\n",
        "rec_dtree = recall_score(y_test,y_dtree)\n",
        "f1_dtree = f1_score(y_test,y_dtree)\n",
        "print(\"Precision score for DT: {:.2f}\".format(prec_dtree))\n",
        "print(\"Recall score for DT: {:.2f}\".format(rec_dtree))\n",
        "print(\"F1 score for DT: {:.2f}\".format(f1_dtree))\n",
        "fpr, tpr, _ = roc_curve(y_test,  y_dtree_prob[:,1])\n",
        "auc_dtree = roc_auc_score(y_test, y_dtree_prob[:,1])\n",
        "fig, ax = plt.subplots()\n",
        "ax.plot(fpr, tpr, color='blue', label='ROC curve (area = %0.2f)' % auc_dtree)\n",
        "ax.plot([0, 1], [0, 1], color='green', linestyle='--')\n",
        "ax.set_xlim([-0.05, 1.0])\n",
        "ax.set_ylim([0.0, 1.05])\n",
        "ax.set_xlabel('False Positive Rate')\n",
        "ax.set_ylabel('True Positive Rate')\n",
        "ax.set_title('Receiver Operating Characteristic (DT)')\n",
        "ax.legend(loc=\"lower right\")\n",
        "plt.show()"
      ],
      "execution_count": 45,
      "outputs": [
        {
          "output_type": "stream",
          "name": "stdout",
          "text": [
            "Classification report for DT: \n",
            "              precision    recall  f1-score   support\n",
            "\n",
            "           0       0.79      0.73      0.76        15\n",
            "           1       0.73      0.79      0.76        14\n",
            "\n",
            "    accuracy                           0.76        29\n",
            "   macro avg       0.76      0.76      0.76        29\n",
            "weighted avg       0.76      0.76      0.76        29\n",
            "\n",
            "Confusion matrix for DT: \n",
            "[[11  4]\n",
            " [ 3 11]]\n",
            "Accuracy score for DT: 0.76\n",
            "Precision score for DT: 0.73\n",
            "Recall score for DT: 0.79\n",
            "F1 score for DT: 0.76\n"
          ]
        },
        {
          "output_type": "display_data",
          "data": {
            "image/png": "[encoded data removed]",
            "text/plain": [
              "<Figure size 432x288 with 1 Axes>"
            ]
          },
          "metadata": {
            "needs_background": "light"
          }
        }
      ]
    },
    {
      "cell_type": "markdown",
      "metadata": {
        "id": "bhtfukrPdW4m"
      },
      "source": [
        "## SVM"
      ]
    },
    {
      "cell_type": "code",
      "metadata": {
        "id": "WCWX1JImwB1V"
      },
      "source": [
        "svm_model = SVC(kernel='rbf',probability=True)\n",
        "svm_model.fit(X_train_std, y_train)\n",
        "y_svm = svm_model.predict(X_test_std)\n",
        "y_svm_prob = svm_model.predict_proba(X_test_std)"
      ],
      "execution_count": 46,
      "outputs": []
    },
    {
      "cell_type": "code",
      "metadata": {
        "colab": {
          "base_uri": "https://localhost:8080/",
          "height": 581
        },
        "id": "urUR3y24bimV",
        "outputId": "5387a261-cb81-422a-a3dd-5d4c5f04344f"
      },
      "source": [
        "print(\"Classification report for SVM: \\n{}\".format(classification_report(y_test,y_svm)))\n",
        "print(\"Confusion matrix for SVM: \\n{}\".format(confusion_matrix(y_test,y_svm)))\n",
        "print(\"Accuracy score for SVM: {:.2f}\".format(accuracy_score(y_test,y_svm)))\n",
        "# calculate precision, recall, and f1 scores\n",
        "prec_svm = precision_score(y_test,y_svm)\n",
        "rec_svm = recall_score(y_test,y_svm)\n",
        "f1_svm = f1_score(y_test,y_svm)\n",
        "print(\"Precision score for SVM: {:.2f}\".format(prec_svm))\n",
        "print(\"Recall score for SVM: {:.2f}\".format(rec_svm))\n",
        "print(\"F1 score for SVM: {:.2f}\".format(f1_svm))\n",
        "fpr, tpr, _ = roc_curve(y_test,  y_svm_prob[:,1])\n",
        "auc_svm = roc_auc_score(y_test, y_svm_prob[:,1])\n",
        "fig, ax = plt.subplots()\n",
        "ax.plot(fpr,tpr, color='blue', label='ROC curve (area = %0.2f)' % auc_svm)\n",
        "ax.plot([0, 1], [0, 1], color='green', linestyle='--')\n",
        "ax.set_xlim([-0.05, 1.0])\n",
        "ax.set_ylim([0.0, 1.05])\n",
        "ax.set_xlabel('False Positive Rate')\n",
        "ax.set_ylabel('True Positive Rate')\n",
        "ax.set_title('Receiver Operating Characteristic (SVM)')\n",
        "ax.legend(loc=\"lower right\")\n",
        "plt.show()"
      ],
      "execution_count": 47,
      "outputs": [
        {
          "output_type": "stream",
          "name": "stdout",
          "text": [
            "Classification report for SVM: \n",
            "              precision    recall  f1-score   support\n",
            "\n",
            "           0       1.00      0.73      0.85        15\n",
            "           1       0.78      1.00      0.88        14\n",
            "\n",
            "    accuracy                           0.86        29\n",
            "   macro avg       0.89      0.87      0.86        29\n",
            "weighted avg       0.89      0.86      0.86        29\n",
            "\n",
            "Confusion matrix for SVM: \n",
            "[[11  4]\n",
            " [ 0 14]]\n",
            "Accuracy score for SVM: 0.86\n",
            "Precision score for SVM: 0.78\n",
            "Recall score for SVM: 1.00\n",
            "F1 score for SVM: 0.88\n"
          ]
        },
        {
          "output_type": "display_data",
          "data": {
            "image/png": "[encoded data removed]",
            "text/plain": [
              "<Figure size 432x288 with 1 Axes>"
            ]
          },
          "metadata": {
            "needs_background": "light"
          }
        }
      ]
    },
    {
      "cell_type": "markdown",
      "metadata": {
        "id": "EXJmwIePhBgx"
      },
      "source": [
        "## Performance Benchmark Across Models"
      ]
    },
    {
      "cell_type": "code",
      "metadata": {
        "colab": {
          "base_uri": "https://localhost:8080/",
          "height": 441
        },
        "id": "1XNx31sthAnD",
        "outputId": "6430751d-0f52-49ab-cd21-32912c65edaa"
      },
      "source": [
        "ml_names = ['SVM', 'DT']\n",
        "\n",
        "\n",
        "prec_all = [prec_svm,prec_dtree]\n",
        "rec_all = [rec_svm, rec_dtree]\n",
        "f1_all = [f1_svm, f1_dtree]\n",
        "\n",
        "def autolabel(bars):\n",
        "    \"\"\"Attach a text label above each bar in displaying its height.\"\"\"\n",
        "    for bar in bars:\n",
        "        height = bar.get_height()\n",
        "        ax.annotate('{:.2f}'.format(height),\n",
        "                    xy=(bar.get_x() + bar.get_width() / 2, height),\n",
        "                    xytext=(0, 5),  # 3 points vertical offset\n",
        "                    textcoords=\"offset points\",\n",
        "                    fontsize=12,\n",
        "                    rotation=90,\n",
        "                    ha='center', va='bottom')\n",
        "        \n",
        "width = 0.25  # the width of the bars\n",
        "r1 = np.arange(len(ml_names))  # the label locations\n",
        "r2 = [x + width for x in r1]\n",
        "r3 = [x + width for x in r2]\n",
        "\n",
        "\n",
        "\n",
        "# plot sensitivity, specificity, and auc\n",
        "fig, ax = plt.subplots(figsize=(8,6))\n",
        "bar1 = ax.bar(r1, prec_all, width, label='Precision')\n",
        "bar2 = ax.bar(r2, rec_all, width, label='Recall')\n",
        "bar3 = ax.bar(r3, f1_all, width, label='F1')\n",
        "# Add some text for labels, title and custom x-axis tick labels, etc.\n",
        "ax.set_ylim([0,1.13])\n",
        "ax.set_ylabel('Scores',fontsize=14)\n",
        "#ax.set_title('Performance benchmark across ML models')\n",
        "ax.set_xticks(r2)\n",
        "ax.set_xticklabels(ml_names)\n",
        "ax.tick_params(axis='both', which='major', labelsize=12)\n",
        "ax.set_xlabel(\"Machine Learning Model\\n\",fontsize=14)\n",
        "ax.legend(loc='lower left',ncol=3,bbox_to_anchor=(0.25,1),fontsize=12)\n",
        "autolabel(bar1)\n",
        "autolabel(bar2)\n",
        "autolabel(bar3)\n",
        "fig.tight_layout()\n",
        "fig.savefig(\"ml_benchmark_f1.pdf\", bbox_inches='tight')\n",
        "plt.show()"
      ],
      "execution_count": 48,
      "outputs": [
        {
          "output_type": "display_data",
          "data": {
            "image/png": "[encoded data removed]",
            "text/plain": [
              "<Figure size 576x432 with 1 Axes>"
            ]
          },
          "metadata": {
            "needs_background": "light"
          }
        }
      ]
    }
  ]
}